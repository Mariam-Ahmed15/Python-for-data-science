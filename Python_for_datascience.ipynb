{
 "cells": [
  {
   "cell_type": "markdown",
   "metadata": {},
   "source": [
    " ## Introduction to Python\n",
    "- ### Why Python for Data Science?\n",
    "   - Python is popular in data science because of its simplicity and powerful libraries.\n",
    "   - Python's easy-to-read syntax makes it great for beginners and allows data scientists to focus on problem-solving rather than syntax.\n",
    "- ### Ecosystem includes tools like:\n",
    "    - NumPy for numerical computations.\n",
    "    - Pandas for data manipulation.\n",
    "    - Matplotlib/Seaborn for data visualization.\n",
    "    - Scikit-learn for machine learning.\n"
   ]
  },
  {
   "cell_type": "markdown",
   "metadata": {},
   "source": [
    "## 2. Basic Python Syntax\n",
    "##### Variables:\n",
    "\n",
    "- Variables store data values and can be reassigned.\n",
    "- Python is dynamically typed, meaning the variable type is determined by the value assigned to it.\n",
    "- You can print variables using print()."
   ]
  },
  {
   "cell_type": "code",
   "execution_count": null,
   "metadata": {},
   "outputs": [],
   "source": [
    "# Variables\n",
    "a = 10      # Integer\n",
    "b = 3.14    # Float\n",
    "name = \"Python\"  # String\n",
    "\n",
    "# Printing variables\n",
    "print(a, b, name)"
   ]
  },
  {
   "cell_type": "code",
   "execution_count": null,
   "metadata": {},
   "outputs": [],
   "source": [
    "is_valid = True  # Boolean\n",
    "print(type(is_valid))  # Output: <class 'bool'>"
   ]
  },
  {
   "cell_type": "markdown",
   "metadata": {},
   "source": [
    "### String Functions in Python"
   ]
  },
  {
   "cell_type": "code",
   "execution_count": null,
   "metadata": {},
   "outputs": [],
   "source": [
    "# len() --> returns the legnth of string\n",
    "s = \"Data Science\"\n",
    "print(len(s))  # Output: 12"
   ]
  },
  {
   "cell_type": "code",
   "execution_count": null,
   "metadata": {},
   "outputs": [],
   "source": [
    "#lower() and upper() – Case Conversion\n",
    "\n",
    "s = \"Data Science\"\n",
    "print(s.lower())  # Output: data science\n",
    "print(s.upper())  # Output: DATA SCIENCE"
   ]
  },
  {
   "cell_type": "code",
   "execution_count": 1,
   "metadata": {},
   "outputs": [
    {
     "name": "stdout",
     "output_type": "stream",
     "text": [
      "Hello, World!\n"
     ]
    }
   ],
   "source": [
    "# strip() --> Removes any leading or trailing spaces.\n",
    "\n",
    "s = \"---Hello, World!----\"\n",
    "print(s.strip('-'))  # Output: \"Hello, World!\""
   ]
  },
  {
   "cell_type": "code",
   "execution_count": null,
   "metadata": {},
   "outputs": [],
   "source": [
    "# replace() Replaces occurrences of a substring with another substring.\n",
    "\n",
    "s = \"Data is good\"\n",
    "print(s.replace(\"good\", \"great\"))"
   ]
  },
  {
   "cell_type": "code",
   "execution_count": null,
   "metadata": {},
   "outputs": [],
   "source": [
    "# split() Splits the string into a list of substrings based on a delimiter (default is whitespace).\n",
    "\n",
    "s = \"Python is fun\"\n",
    "print(s.split())  # Output: ['Python', 'is', 'fun']"
   ]
  },
  {
   "cell_type": "code",
   "execution_count": null,
   "metadata": {},
   "outputs": [],
   "source": [
    "# join() --> Joins a list of strings into a single string with a specified separator.\n",
    "\n",
    "words = ['Data', 'Science', 'is', 'cool']\n",
    "print(' '.join(words))  # Output: Data Science is cool"
   ]
  },
  {
   "cell_type": "code",
   "execution_count": null,
   "metadata": {},
   "outputs": [],
   "source": [
    "#startswith(): Checks if the string starts with a specific substring.\n",
    "#endswith(): Checks if the string ends with a specific substring.\n",
    "\n",
    "s = \"Data Science\"\n",
    "print(s.startswith('Data'))  # Output: True\n",
    "print(s.endswith('Science'))  # Output: True"
   ]
  },
  {
   "cell_type": "code",
   "execution_count": null,
   "metadata": {},
   "outputs": [],
   "source": [
    "#format(): Allows inserting variables into strings.\n",
    "#f-strings (Python 3.6+): A more concise way to format strings.\n",
    "\n",
    "name = \"Alice\"\n",
    "age = 25\n",
    "print(\"My name is {} and I am {} years old.\".format(name, age))\n",
    "\n",
    "# Using f-string\n",
    "print(f\"My name is {name} and I am {age} years old.\")  # Output: My name is Alice and I am 25 years old."
   ]
  },
  {
   "cell_type": "markdown",
   "metadata": {},
   "source": [
    "### Numeric Functions in Python"
   ]
  },
  {
   "cell_type": "code",
   "execution_count": null,
   "metadata": {},
   "outputs": [],
   "source": [
    "# abs() -- >Returns the absolute value of a number (removes the sign).\n",
    " \n",
    "print(abs(-5))  # Output: 5"
   ]
  },
  {
   "cell_type": "code",
   "execution_count": null,
   "metadata": {},
   "outputs": [],
   "source": [
    "#round()--> Rounds a floating-point number to a specified number of decimal places.\n",
    "\n",
    "print(round(3.14159, 2))  # Output: 3.14"
   ]
  },
  {
   "cell_type": "code",
   "execution_count": null,
   "metadata": {},
   "outputs": [],
   "source": [
    "#max(): Returns the largest value from a set of numbers.\n",
    "#min(): Returns the smallest value from a set of numbers.\n",
    "\n",
    "print(max(1, 5, 3))  # Output: 5\n",
    "print(min(1, 5, 3))  # Output: 1"
   ]
  },
  {
   "cell_type": "code",
   "execution_count": null,
   "metadata": {},
   "outputs": [],
   "source": [
    "# Returns the sum of all elements in an iterable (like a list or tuple).\n",
    "\n",
    "numbers = [1, 2, 3, 4]\n",
    "print(sum(numbers))  # Output: 10"
   ]
  },
  {
   "cell_type": "markdown",
   "metadata": {},
   "source": [
    "### Lists in Python\n",
    "- A list is a mutable, ordered collection of elements, which can store multiple data types (integers, strings, etc.)."
   ]
  },
  {
   "cell_type": "code",
   "execution_count": 3,
   "metadata": {},
   "outputs": [],
   "source": [
    "# creating list \n",
    "my_list =  [1, 2, 3, \"data\", 5.5]"
   ]
  },
  {
   "cell_type": "code",
   "execution_count": null,
   "metadata": {},
   "outputs": [],
   "source": [
    "# append() –-> Add an Element to the End\n",
    "\n",
    "my_list.append(6)\n",
    "print(my_list)  # Output: [1, 2, 3, \"data\", 5.5, 6]"
   ]
  },
  {
   "cell_type": "code",
   "execution_count": null,
   "metadata": {},
   "outputs": [],
   "source": [
    "# extend() –-> Add Multiple Elements\n",
    "\n",
    "my_list.extend([7, 8, 9])\n",
    "print(my_list)  # Output: [1, 2, 3, \"data\", 5.5, 6, 7, 8, 9]"
   ]
  },
  {
   "cell_type": "code",
   "execution_count": null,
   "metadata": {},
   "outputs": [],
   "source": [
    "#insert() –-> Insert an Element at a Specific Index\n",
    "\n",
    "my_list.insert(2, \"inserted\")\n",
    "print(my_list)  # Output: [1, 2, 'inserted', 3, \"data\", 5.5, 6, 7, 8, 9]"
   ]
  },
  {
   "cell_type": "code",
   "execution_count": null,
   "metadata": {},
   "outputs": [],
   "source": [
    "# remove() –-> Remove the First Occurrence of an Element\n",
    "\n",
    "my_list.remove(\"data\")\n",
    "print(my_list)  # Output: [1, 2, 'inserted', 3, 5.5, 6, 7, 8, 9]"
   ]
  },
  {
   "cell_type": "code",
   "execution_count": null,
   "metadata": {},
   "outputs": [],
   "source": [
    "# pop() –-> Removes and returns the element at the specified index. If no index is specified, it removes the last element.\n",
    "element = my_list.pop(3)\n",
    "print(element)  # Output: 3\n",
    "print(my_list)  # Output: [1, 2, 'inserted', 5.5, 6, 7, 8, 9]"
   ]
  },
  {
   "cell_type": "code",
   "execution_count": null,
   "metadata": {},
   "outputs": [],
   "source": [
    "# index() –-> Returns the index of the first occurrence of a specified element.\n",
    "print(my_list.index(7))  # Output: 5\n"
   ]
  },
  {
   "cell_type": "code",
   "execution_count": 5,
   "metadata": {},
   "outputs": [
    {
     "name": "stdout",
     "output_type": "stream",
     "text": [
      "[9, 7, 4, 3, 1]\n"
     ]
    }
   ],
   "source": [
    "# sort() --> asc is default\n",
    "numeric_list = [4, 1, 7, 3, 9]\n",
    "numeric_list.sort()\n",
    "print(numeric_list)  # Output: [1, 3, 4, 7, 9]\n"
   ]
  },
  {
   "cell_type": "code",
   "execution_count": null,
   "metadata": {},
   "outputs": [],
   "source": [
    "# Reverses the order of elements in the list.\n",
    "\n",
    "numeric_list.reverse()\n",
    "print(numeric_list)  # Output: [9, 7, 4, 3, 1]"
   ]
  },
  {
   "cell_type": "markdown",
   "metadata": {},
   "source": [
    "### Tuples in Python\n",
    "- A tuple is an immutable, ordered collection of elements, similar to a list but cannot be changed after creation."
   ]
  },
  {
   "cell_type": "code",
   "execution_count": 6,
   "metadata": {},
   "outputs": [
    {
     "data": {
      "text/plain": [
       "False"
      ]
     },
     "execution_count": 6,
     "metadata": {},
     "output_type": "execute_result"
    }
   ],
   "source": [
    "# creating Tuple\n",
    "my_tuple = (1, 2, 3, \"data\", 5.5)\n",
    "tuple2 = (2, 1, 3, \"data\", 5.5)\n"
   ]
  },
  {
   "cell_type": "code",
   "execution_count": null,
   "metadata": {},
   "outputs": [],
   "source": [
    "print(len(my_tuple))  # Output: 5\n",
    "print(my_tuple.index(3))  # Output: 2\n",
    "print(my_tuple.count(3))  # Output: 1\n"
   ]
  },
  {
   "cell_type": "markdown",
   "metadata": {},
   "source": [
    "### Why Use Tuples?\n",
    "- Immutable: Tuples are immutable, meaning their content cannot be changed. This makes them useful for storing fixed data.\n",
    "- Faster: Tuples are generally faster than lists due to their immutability.\n",
    "- Used for Unchangeable Data: They are used when you want to ensure that the data doesn’t get modified."
   ]
  },
  {
   "cell_type": "markdown",
   "metadata": {},
   "source": [
    "### Dictionaries in Python\n",
    "- A dictionary is an unordered collection of key-value pairs, where each key is unique. You can access the value associated with a key using the key itself."
   ]
  },
  {
   "cell_type": "code",
   "execution_count": null,
   "metadata": {},
   "outputs": [],
   "source": [
    "# Creating Dict\n",
    "my_dict = {\"name\": \"Alice\", \"age\": 25, \"city\": \"New York\"}"
   ]
  },
  {
   "cell_type": "code",
   "execution_count": null,
   "metadata": {},
   "outputs": [],
   "source": [
    "# get() –- >Returns the value for the specified key. If the key doesn’t exist, it returns None or a default value.\n",
    "\n",
    "print(my_dict.get(\"name\"))  # Output: Alice\n",
    "print(my_dict.get(\"country\", \"Not Found\"))  # Output: Not Foun"
   ]
  },
  {
   "cell_type": "code",
   "execution_count": null,
   "metadata": {},
   "outputs": [],
   "source": [
    "#keys() –-> Returns a list-like object containing all the keys in the dictionary.\n",
    "print(my_dict.keys())  # Output: dict_keys(['name', 'age', 'city'])"
   ]
  },
  {
   "cell_type": "code",
   "execution_count": null,
   "metadata": {},
   "outputs": [],
   "source": [
    "#values() –- >Returns a list-like object containing all the values in the dictionary.\n",
    "print(my_dict.values())  # Output: dict_values(['Alice', 25, 'New York'])"
   ]
  },
  {
   "cell_type": "code",
   "execution_count": null,
   "metadata": {},
   "outputs": [],
   "source": [
    "# items() --> Returns a list-like object containing all the key-value pairs as tuples.\n",
    "print(my_dict.items())  # Output: dict_items([('name', 'Alice'), ('age', 25), ('city', 'New York')])"
   ]
  },
  {
   "cell_type": "code",
   "execution_count": null,
   "metadata": {},
   "outputs": [],
   "source": [
    "# update() -->  Updates the dictionary with the specified key-value pairs. If the key already exists, its value is updated; otherwise, a new key-value pair is added.\n",
    "my_dict.update({\"age\": 30, \"country\": \"USA\"})\n",
    "print(my_dict)  # Output: {'name': 'Alice', 'age': 30, 'city': 'New York', 'country': 'USA'}"
   ]
  },
  {
   "cell_type": "code",
   "execution_count": null,
   "metadata": {},
   "outputs": [],
   "source": [
    "my_dict.pop()\n",
    "#my_dict.clear()"
   ]
  },
  {
   "cell_type": "markdown",
   "metadata": {},
   "source": [
    "### Why Use Dictionaries?\n",
    "- Key-Value Storage: Dictionaries are perfect for situations where you want to associate unique keys with specific values.\n",
    "- Efficient Lookups: Dictionary lookups are very efficient, typically O(1) time complexity, which makes them faster than searching in lists or other data structures.\n"
   ]
  },
  {
   "attachments": {
    "image.png": {
     "image/png": "[encoded data removed]"
    }
   },
   "cell_type": "markdown",
   "metadata": {},
   "source": [
    "![image.png](attachment:image.png)"
   ]
  },
  {
   "cell_type": "markdown",
   "metadata": {},
   "source": [
    "### Control Flow (Conditionals and Loops)\n",
    "- #### Conditionals (if, elif, else):\n",
    "    - Checking conditions and making decisions.\n",
    "- #### Loops (for, while):\n",
    "    - Iterating over lists, ranges, and dictionaries."
   ]
  },
  {
   "cell_type": "code",
   "execution_count": null,
   "metadata": {},
   "outputs": [],
   "source": [
    "# Conditional statements\n",
    "age = 20\n",
    "if age >= 18:\n",
    "    print(\"Adult\")\n",
    "else:\n",
    "    print(\"Minor\")\n",
    "\n",
    "\n"
   ]
  },
  {
   "cell_type": "code",
   "execution_count": null,
   "metadata": {},
   "outputs": [],
   "source": [
    "# For loop\n",
    "for num in range(5):\n",
    "    print(num)\n",
    "\n"
   ]
  },
  {
   "cell_type": "code",
   "execution_count": null,
   "metadata": {},
   "outputs": [],
   "source": [
    "# While loop\n",
    "count = 0\n",
    "while count < 3:\n",
    "    print(count)\n",
    "    count += 1"
   ]
  },
  {
   "cell_type": "markdown",
   "metadata": {},
   "source": [
    "### Functions"
   ]
  },
  {
   "cell_type": "code",
   "execution_count": null,
   "metadata": {},
   "outputs": [],
   "source": [
    "# Function to calculate the square of a number\n",
    "def square(num):\n",
    "    return num ** 2\n",
    "\n",
    "# Using the function\n",
    "print(square(5))  # Output: 25"
   ]
  },
  {
   "cell_type": "code",
   "execution_count": null,
   "metadata": {},
   "outputs": [],
   "source": [
    "# Lambda function example\n",
    "square = lambda x: x**2\n",
    "print(square(4))"
   ]
  },
  {
   "cell_type": "markdown",
   "metadata": {},
   "source": [
    "### Some Important functions "
   ]
  },
  {
   "cell_type": "markdown",
   "metadata": {},
   "source": [
    "#### zip()\n",
    "- The zip() function combines multiple iterables (e.g., lists or tuples) element-wise, returning a new iterable where each element is a tuple of corresponding elements from the input iterables."
   ]
  },
  {
   "cell_type": "code",
   "execution_count": 9,
   "metadata": {},
   "outputs": [
    {
     "data": {
      "text/plain": [
       "zip"
      ]
     },
     "execution_count": 9,
     "metadata": {},
     "output_type": "execute_result"
    }
   ],
   "source": [
    "names = ['Alice', 'Bob', 'Charlie']\n",
    "ages = [25, 30, 35]\n",
    "\n",
    "# Using zip to pair names with ages\n",
    "combined = zip(names, ages)\n",
    "type(combined)\n",
    "print(list(combined))  # Output: [('Alice', 25), ('Bob', 30), ('Charlie', 35)]"
   ]
  },
  {
   "cell_type": "markdown",
   "metadata": {},
   "source": [
    "#### enumerate()\n",
    "- enumerate() allows you to loop over an iterable and have an automatic counter at the same time"
   ]
  },
  {
   "cell_type": "code",
   "execution_count": 11,
   "metadata": {},
   "outputs": [
    {
     "data": {
      "text/plain": [
       "[(0, 'New York'), (1, 'London'), (2, 'Tokyo')]"
      ]
     },
     "execution_count": 11,
     "metadata": {},
     "output_type": "execute_result"
    }
   ],
   "source": [
    "cities = ['New York', 'London', 'Tokyo']\n",
    "for idx, city in enumerate(cities):\n",
    "    print(f\"City {idx}: {city}\")\n",
    "\n",
    "# Output:\n",
    "# City 0: New York\n",
    "# City 1: London\n",
    "# City 2: Tokyo\n",
    "list(enumerate(cities))"
   ]
  },
  {
   "cell_type": "markdown",
   "metadata": {},
   "source": [
    "#### map()\n",
    "- map() applies a function to every item in an iterable (e.g., list, tuple), returning an iterator of the results."
   ]
  },
  {
   "cell_type": "code",
   "execution_count": null,
   "metadata": {},
   "outputs": [],
   "source": [
    "nums = [1, 2, 3, 4, 5]\n",
    "squared = map(lambda x: x**2, nums)\n",
    "print(list(squared))  # Output: [1, 4, 9, 16, 25]\n"
   ]
  },
  {
   "cell_type": "markdown",
   "metadata": {},
   "source": [
    "#### range()\n",
    "- range() generates a sequence of numbers, typically used in loops."
   ]
  },
  {
   "cell_type": "code",
   "execution_count": 15,
   "metadata": {},
   "outputs": [
    {
     "name": "stdout",
     "output_type": "stream",
     "text": [
      "1\n",
      "3\n"
     ]
    }
   ],
   "source": [
    "for i in range(5):\n",
    "    print(i)  # Output: 0, 1, 2\n"
   ]
  },
  {
   "cell_type": "code",
   "execution_count": 16,
   "metadata": {},
   "outputs": [
    {
     "data": {
      "text/plain": [
       "[(1, ('Alice', 85)),\n",
       " (2, ('Bob', 92)),\n",
       " (3, ('Charlie', 78)),\n",
       " (4, ('David', 88)),\n",
       " (5, ('Eva', 95))]"
      ]
     },
     "execution_count": 16,
     "metadata": {},
     "output_type": "execute_result"
    }
   ],
   "source": [
    "# Step 1: Create Lists\n",
    "student_names = ['Alice', 'Bob', 'Charlie', 'David', 'Eva']\n",
    "student_grades = [85, 92, 78, 88, 95]\n",
    "\n",
    "# Step 2: Combine Lists\n",
    "combined = zip(student_names, student_grades)\n",
    "\n",
    "# Step 3: Enumerate the Combined List\n",
    "enumerated_combined = list(enumerate(combined, start=1))\n",
    "enumerated_combined"
   ]
  },
  {
   "cell_type": "markdown",
   "metadata": {},
   "source": [
    "## Exercise: Pairing Colors and Their Codes\n",
    "### Problem Statement\n",
    "You have two lists: one containing color names and the other containing their corresponding color codes. Your task is to:\n",
    "\n",
    "1. Combine the color names and codes into a list of tuples.\n",
    "2. Print each color with its code in a formatted string."
   ]
  },
  {
   "cell_type": "code",
   "execution_count": null,
   "metadata": {},
   "outputs": [],
   "source": [
    "colors = ['Red', 'Green', 'Blue']\n",
    "codes = ['#FF0000', '#00FF00', '#0000FF']"
   ]
  },
  {
   "cell_type": "code",
   "execution_count": null,
   "metadata": {},
   "outputs": [],
   "source": [
    "# solving\n",
    "# Step 1: Create Lists\n",
    "colors = ['Red', 'Green', 'Blue']\n",
    "codes = ['#FF0000', '#00FF00', '#0000FF']\n",
    "\n",
    "# Step 2: Combine Lists\n",
    "color_code_pairs = list(zip(colors, codes))\n",
    "\n",
    "# Step 3: Print Each Pair\n",
    "for color, code in color_code_pairs:\n",
    "    print(f\"The color {color} has the code {code}.\")\n"
   ]
  },
  {
   "cell_type": "markdown",
   "metadata": {},
   "source": [
    "## Exercise: Converting Temperatures\n",
    "### Problem Statement\n",
    "You have a list of temperatures in Celsius and need to:\n",
    "\n",
    "1. Convert each temperature to Fahrenheit.\n",
    "2. Print the original Celsius temperature alongside its corresponding Fahrenheit temperature"
   ]
  },
  {
   "cell_type": "code",
   "execution_count": 17,
   "metadata": {},
   "outputs": [],
   "source": [
    "celsius_temperatures = [0, 10, 20, 30, 40]\n",
    "## Note --> fahrenheit =celsius * 9 / 5 + 32"
   ]
  },
  {
   "cell_type": "code",
   "execution_count": null,
   "metadata": {},
   "outputs": [],
   "source": [
    "# solve\n",
    "# Step 1: Create List\n",
    "celsius_temperatures = [0, 10, 20, 30, 40]\n",
    "\n",
    "# Step 2: Convert to Fahrenheit\n",
    "def celsius_to_fahrenheit(celsius):\n",
    "    return celsius * 9 / 5 + 32\n",
    "\n",
    "# Apply the conversion function using map()\n",
    "fahrenheit_temperatures = list(map(celsius_to_fahrenheit, celsius_temperatures))\n",
    "\n",
    "# Step 3: Print Each Temperature\n",
    "for celsius, fahrenheit in zip(celsius_temperatures, fahrenheit_temperatures):\n",
    "    print(f\"{celsius}°C is equivalent to {fahrenheit:.1f}°F.\")\n"
   ]
  }
 ],
 "metadata": {
  "kernelspec": {
   "display_name": "Python 3",
   "language": "python",
   "name": "python3"
  },
  "language_info": {
   "codemirror_mode": {
    "name": "ipython",
    "version": 3
   },
   "file_extension": ".py",
   "mimetype": "text/x-python",
   "name": "python",
   "nbconvert_exporter": "python",
   "pygments_lexer": "ipython3",
   "version": "3.6.2"
  }
 },
 "nbformat": 4,
 "nbformat_minor": 2
}
